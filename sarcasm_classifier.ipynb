{
  "cells": [
    {
      "cell_type": "code",
      "execution_count": 1,
      "metadata": {
        "id": "XYYDvoskkE61"
      },
      "outputs": [],
      "source": [
        "import json\n",
        "import tensorflow as tf\n",
        "\n",
        "from tensorflow.keras.preprocessing.text import Tokenizer\n",
        "from tensorflow.keras.preprocessing.sequence import pad_sequences"
      ]
    },
    {
      "cell_type": "code",
      "execution_count": 2,
      "metadata": {
        "id": "0eJSTTYnkJQd"
      },
      "outputs": [],
      "source": [
        "vocab_size = 10000\n",
        "embedding_dim = 16\n",
        "max_length = 100\n",
        "trunc_type='post'\n",
        "padding_type='post'\n",
        "oov_tok = \"<OOV>\"\n",
        "training_size = 20000\n"
      ]
    },
    {
      "cell_type": "code",
      "execution_count": 3,
      "metadata": {
        "id": "BQVuQrZNkPn9",
        "colab": {
          "base_uri": "https://localhost:8080/"
        },
        "outputId": "43458ab6-f3e3-4603-a290-ec5d5d1e6df6"
      },
      "outputs": [
        {
          "output_type": "stream",
          "name": "stdout",
          "text": [
            "--2022-12-05 13:03:22--  https://storage.googleapis.com/laurencemoroney-blog.appspot.com/sarcasm.json\n",
            "Resolving storage.googleapis.com (storage.googleapis.com)... 142.251.12.128, 74.125.200.128, 74.125.68.128, ...\n",
            "Connecting to storage.googleapis.com (storage.googleapis.com)|142.251.12.128|:443... connected.\n",
            "HTTP request sent, awaiting response... 200 OK\n",
            "Length: 5643545 (5.4M) [application/json]\n",
            "Saving to: ‘/tmp/sarcasm.json’\n",
            "\n",
            "/tmp/sarcasm.json   100%[===================>]   5.38M  --.-KB/s    in 0.07s   \n",
            "\n",
            "2022-12-05 13:03:22 (82.7 MB/s) - ‘/tmp/sarcasm.json’ saved [5643545/5643545]\n",
            "\n"
          ]
        }
      ],
      "source": [
        "!wget --no-check-certificate \\\n",
        "    https://storage.googleapis.com/laurencemoroney-blog.appspot.com/sarcasm.json \\\n",
        "    -O /tmp/sarcasm.json\n"
      ]
    },
    {
      "cell_type": "code",
      "execution_count": 4,
      "metadata": {
        "id": "oaLaaqhNkUPd"
      },
      "outputs": [],
      "source": [
        "with open(\"/tmp/sarcasm.json\", 'r') as f:\n",
        "    datastore = json.load(f)\n",
        "\n",
        "sentences = []\n",
        "labels = []\n",
        "\n",
        "for item in datastore:\n",
        "    sentences.append(item['headline'])\n",
        "    labels.append(item['is_sarcastic'])"
      ]
    },
    {
      "cell_type": "code",
      "execution_count": 5,
      "metadata": {
        "id": "S1sD-7v0kYWk"
      },
      "outputs": [],
      "source": [
        "training_sentences = sentences[0:training_size]\n",
        "testing_sentences = sentences[training_size:]\n",
        "training_labels = labels[0:training_size]\n",
        "testing_labels = labels[training_size:]"
      ]
    },
    {
      "cell_type": "code",
      "execution_count": 6,
      "metadata": {
        "id": "3u8UB0MCkZ5N"
      },
      "outputs": [],
      "source": [
        "tokenizer = Tokenizer(num_words=vocab_size, oov_token=oov_tok)\n",
        "tokenizer.fit_on_texts(training_sentences)\n",
        "\n",
        "word_index = tokenizer.word_index\n",
        "\n",
        "training_sequences = tokenizer.texts_to_sequences(training_sentences)\n",
        "training_padded = pad_sequences(training_sequences, maxlen=max_length, padding=padding_type, truncating=trunc_type)\n",
        "\n",
        "testing_sequences = tokenizer.texts_to_sequences(testing_sentences)\n",
        "testing_padded = pad_sequences(testing_sequences, maxlen=max_length, padding=padding_type, truncating=trunc_type)"
      ]
    },
    {
      "cell_type": "code",
      "execution_count": 7,
      "metadata": {
        "id": "GrAlWBKf99Ya"
      },
      "outputs": [],
      "source": [
        "import numpy as np\n",
        "training_padded = np.array(training_padded)\n",
        "training_labels = np.array(training_labels)\n",
        "testing_padded = np.array(testing_padded)\n",
        "testing_labels = np.array(testing_labels)"
      ]
    },
    {
      "cell_type": "code",
      "execution_count": 8,
      "metadata": {
        "id": "FufaT4vlkiDE"
      },
      "outputs": [],
      "source": [
        "model = tf.keras.Sequential([\n",
        "    tf.keras.layers.Embedding(vocab_size, embedding_dim, input_length=max_length),\n",
        "    tf.keras.layers.GlobalAveragePooling1D(),\n",
        "    tf.keras.layers.Dense(24, activation='relu'),\n",
        "    tf.keras.layers.Dense(1, activation='sigmoid')\n",
        "])\n",
        "model.compile(loss='binary_crossentropy',optimizer='adam',metrics=['accuracy'])"
      ]
    },
    {
      "cell_type": "code",
      "execution_count": 10,
      "metadata": {
        "id": "XfDt1hmYkiys",
        "colab": {
          "base_uri": "https://localhost:8080/"
        },
        "outputId": "ea43194c-87f1-4cef-d7d1-b59bc8d48d95"
      },
      "outputs": [
        {
          "output_type": "stream",
          "name": "stdout",
          "text": [
            "Model: \"sequential\"\n",
            "_________________________________________________________________\n",
            " Layer (type)                Output Shape              Param #   \n",
            "=================================================================\n",
            " embedding (Embedding)       (None, 100, 16)           160000    \n",
            "                                                                 \n",
            " global_average_pooling1d (G  (None, 16)               0         \n",
            " lobalAveragePooling1D)                                          \n",
            "                                                                 \n",
            " dense (Dense)               (None, 24)                408       \n",
            "                                                                 \n",
            " dense_1 (Dense)             (None, 1)                 25        \n",
            "                                                                 \n",
            "=================================================================\n",
            "Total params: 160,433\n",
            "Trainable params: 160,433\n",
            "Non-trainable params: 0\n",
            "_________________________________________________________________\n"
          ]
        }
      ],
      "source": [
        "model.summary()"
      ]
    },
    {
      "cell_type": "code",
      "execution_count": 11,
      "metadata": {
        "id": "2DTKQFf1kkyc",
        "colab": {
          "base_uri": "https://localhost:8080/"
        },
        "outputId": "5914a223-1c86-4b3c-bb3c-558a49793729"
      },
      "outputs": [
        {
          "output_type": "stream",
          "name": "stdout",
          "text": [
            "Epoch 1/30\n",
            "625/625 - 7s - loss: 0.6639 - accuracy: 0.5811 - val_loss: 0.5824 - val_accuracy: 0.7670 - 7s/epoch - 11ms/step\n",
            "Epoch 2/30\n",
            "625/625 - 3s - loss: 0.4324 - accuracy: 0.8302 - val_loss: 0.3831 - val_accuracy: 0.8425 - 3s/epoch - 5ms/step\n",
            "Epoch 3/30\n",
            "625/625 - 2s - loss: 0.3071 - accuracy: 0.8788 - val_loss: 0.3518 - val_accuracy: 0.8548 - 2s/epoch - 3ms/step\n",
            "Epoch 4/30\n",
            "625/625 - 2s - loss: 0.2547 - accuracy: 0.9014 - val_loss: 0.3430 - val_accuracy: 0.8569 - 2s/epoch - 3ms/step\n",
            "Epoch 5/30\n",
            "625/625 - 2s - loss: 0.2187 - accuracy: 0.9161 - val_loss: 0.3495 - val_accuracy: 0.8511 - 2s/epoch - 3ms/step\n",
            "Epoch 6/30\n",
            "625/625 - 2s - loss: 0.1916 - accuracy: 0.9268 - val_loss: 0.3559 - val_accuracy: 0.8524 - 2s/epoch - 3ms/step\n",
            "Epoch 7/30\n",
            "625/625 - 2s - loss: 0.1703 - accuracy: 0.9360 - val_loss: 0.3666 - val_accuracy: 0.8550 - 2s/epoch - 3ms/step\n",
            "Epoch 8/30\n",
            "625/625 - 2s - loss: 0.1519 - accuracy: 0.9445 - val_loss: 0.3837 - val_accuracy: 0.8544 - 2s/epoch - 3ms/step\n",
            "Epoch 9/30\n",
            "625/625 - 2s - loss: 0.1365 - accuracy: 0.9521 - val_loss: 0.4055 - val_accuracy: 0.8498 - 2s/epoch - 3ms/step\n",
            "Epoch 10/30\n",
            "625/625 - 2s - loss: 0.1256 - accuracy: 0.9550 - val_loss: 0.4231 - val_accuracy: 0.8492 - 2s/epoch - 3ms/step\n",
            "Epoch 11/30\n",
            "625/625 - 2s - loss: 0.1129 - accuracy: 0.9614 - val_loss: 0.4472 - val_accuracy: 0.8463 - 2s/epoch - 3ms/step\n",
            "Epoch 12/30\n",
            "625/625 - 2s - loss: 0.1021 - accuracy: 0.9657 - val_loss: 0.4768 - val_accuracy: 0.8404 - 2s/epoch - 4ms/step\n",
            "Epoch 13/30\n",
            "625/625 - 2s - loss: 0.0938 - accuracy: 0.9692 - val_loss: 0.4992 - val_accuracy: 0.8413 - 2s/epoch - 3ms/step\n",
            "Epoch 14/30\n",
            "625/625 - 2s - loss: 0.0866 - accuracy: 0.9719 - val_loss: 0.5236 - val_accuracy: 0.8383 - 2s/epoch - 3ms/step\n",
            "Epoch 15/30\n",
            "625/625 - 2s - loss: 0.0793 - accuracy: 0.9739 - val_loss: 0.5512 - val_accuracy: 0.8386 - 2s/epoch - 3ms/step\n",
            "Epoch 16/30\n",
            "625/625 - 2s - loss: 0.0719 - accuracy: 0.9778 - val_loss: 0.5934 - val_accuracy: 0.8356 - 2s/epoch - 3ms/step\n",
            "Epoch 17/30\n",
            "625/625 - 2s - loss: 0.0665 - accuracy: 0.9796 - val_loss: 0.6305 - val_accuracy: 0.8317 - 2s/epoch - 3ms/step\n",
            "Epoch 18/30\n",
            "625/625 - 2s - loss: 0.0605 - accuracy: 0.9810 - val_loss: 0.6631 - val_accuracy: 0.8292 - 2s/epoch - 3ms/step\n",
            "Epoch 19/30\n",
            "625/625 - 2s - loss: 0.0581 - accuracy: 0.9811 - val_loss: 0.6817 - val_accuracy: 0.8261 - 2s/epoch - 3ms/step\n",
            "Epoch 20/30\n",
            "625/625 - 2s - loss: 0.0505 - accuracy: 0.9855 - val_loss: 0.7331 - val_accuracy: 0.8237 - 2s/epoch - 3ms/step\n",
            "Epoch 21/30\n",
            "625/625 - 2s - loss: 0.0471 - accuracy: 0.9855 - val_loss: 0.7534 - val_accuracy: 0.8246 - 2s/epoch - 3ms/step\n",
            "Epoch 22/30\n",
            "625/625 - 2s - loss: 0.0438 - accuracy: 0.9870 - val_loss: 0.8728 - val_accuracy: 0.8176 - 2s/epoch - 3ms/step\n",
            "Epoch 23/30\n",
            "625/625 - 2s - loss: 0.0417 - accuracy: 0.9875 - val_loss: 0.8579 - val_accuracy: 0.8183 - 2s/epoch - 3ms/step\n",
            "Epoch 24/30\n",
            "625/625 - 2s - loss: 0.0371 - accuracy: 0.9894 - val_loss: 0.8695 - val_accuracy: 0.8208 - 2s/epoch - 3ms/step\n",
            "Epoch 25/30\n",
            "625/625 - 2s - loss: 0.0339 - accuracy: 0.9904 - val_loss: 0.9074 - val_accuracy: 0.8189 - 2s/epoch - 3ms/step\n",
            "Epoch 26/30\n",
            "625/625 - 2s - loss: 0.0312 - accuracy: 0.9918 - val_loss: 0.9559 - val_accuracy: 0.8179 - 2s/epoch - 3ms/step\n",
            "Epoch 27/30\n",
            "625/625 - 2s - loss: 0.0287 - accuracy: 0.9919 - val_loss: 0.9994 - val_accuracy: 0.8146 - 2s/epoch - 3ms/step\n",
            "Epoch 28/30\n",
            "625/625 - 2s - loss: 0.0270 - accuracy: 0.9928 - val_loss: 1.1370 - val_accuracy: 0.8131 - 2s/epoch - 3ms/step\n",
            "Epoch 29/30\n",
            "625/625 - 2s - loss: 0.0257 - accuracy: 0.9926 - val_loss: 1.0925 - val_accuracy: 0.8140 - 2s/epoch - 3ms/step\n",
            "Epoch 30/30\n",
            "625/625 - 2s - loss: 0.0240 - accuracy: 0.9928 - val_loss: 1.1434 - val_accuracy: 0.8135 - 2s/epoch - 3ms/step\n"
          ]
        }
      ],
      "source": [
        "num_epochs = 30\n",
        "history = model.fit(training_padded, training_labels, epochs=num_epochs, validation_data=(testing_padded, testing_labels), verbose=2)"
      ]
    },
    {
      "cell_type": "code",
      "execution_count": 12,
      "metadata": {
        "id": "2HYfBKXjkmU8",
        "colab": {
          "base_uri": "https://localhost:8080/",
          "height": 541
        },
        "outputId": "8f91e851-d2be-4deb-96f8-0567ca594fed"
      },
      "outputs": [
        {
          "output_type": "display_data",
          "data": {
            "text/plain": [
              "<Figure size 432x288 with 1 Axes>"
            ],
            "image/png": "[encoded data removed]"
          },
          "metadata": {
            "needs_background": "light"
          }
        },
        {
          "output_type": "display_data",
          "data": {
            "text/plain": [
              "<Figure size 432x288 with 1 Axes>"
            ],
            "image/png": "[encoded data removed]"
          },
          "metadata": {
            "needs_background": "light"
          }
        }
      ],
      "source": [
        "import matplotlib.pyplot as plt\n",
        "\n",
        "\n",
        "def plot_graphs(history, string):\n",
        "  plt.plot(history.history[string])\n",
        "  plt.plot(history.history['val_'+string])\n",
        "  plt.xlabel(\"Epochs\")\n",
        "  plt.ylabel(string)\n",
        "  plt.legend([string, 'val_'+string])\n",
        "  plt.show()\n",
        "  \n",
        "plot_graphs(history, \"accuracy\")\n",
        "plot_graphs(history, \"loss\")"
      ]
    },
    {
      "cell_type": "code",
      "execution_count": 19,
      "metadata": {
        "id": "7SBdAZAenvzL",
        "colab": {
          "base_uri": "https://localhost:8080/"
        },
        "outputId": "f1ca1393-7fe2-4454-c1f1-118e6bea384c"
      },
      "outputs": [
        {
          "output_type": "stream",
          "name": "stdout",
          "text": [
            "former <OOV> store clerk sues over secret 'black <OOV> for minority shoppers ? ? ? ? ? ? ? ? ? ? ? ? ? ? ? ? ? ? ? ? ? ? ? ? ? ? ? ? ? ? ? ? ? ? ? ? ? ? ? ? ? ? ? ? ? ? ? ? ? ? ? ? ? ? ? ? ? ? ? ? ? ? ? ? ? ? ? ? ? ? ? ? ? ? ? ? ? ? ? ? ? ? ? ? ? ? ? ?\n",
            "former versace store clerk sues over secret 'black code' for minority shoppers\n",
            "0\n"
          ]
        }
      ],
      "source": [
        "reverse_word_index = dict([(value, key) for (key, value) in word_index.items()])\n",
        "\n",
        "def decode_sentence(text):\n",
        "    return ' '.join([reverse_word_index.get(i, '?') for i in text])\n",
        "\n",
        "print(decode_sentence(training_padded[0]))\n",
        "print(training_sentences[0])\n",
        "print(labels[0])"
      ]
    },
    {
      "cell_type": "code",
      "execution_count": 20,
      "metadata": {
        "id": "cG8-ArY-qDcz",
        "colab": {
          "base_uri": "https://localhost:8080/"
        },
        "outputId": "7ffae335-a58d-41e6-acff-1974ac0cb740"
      },
      "outputs": [
        {
          "output_type": "stream",
          "name": "stdout",
          "text": [
            "1/1 [==============================] - 0s 17ms/step\n",
            "[[6.5329361e-01]\n",
            " [1.5747626e-06]]\n"
          ]
        }
      ],
      "source": [
        "sentence = [\"granny starting to fear spiders in the garden might be real\", \"game of thrones season finale showing this sunday night\"]\n",
        "sequences = tokenizer.texts_to_sequences(sentence)\n",
        "padded = pad_sequences(sequences, maxlen=max_length, padding=padding_type, truncating=trunc_type)\n",
        "#if value is near 1,it is sarcastic,if it is near 0 it is not\n",
        "print(model.predict(padded))"
      ]
    }
  ],
  "metadata": {
    "accelerator": "GPU",
    "colab": {
      "provenance": []
    },
    "kernelspec": {
      "display_name": "Python 3",
      "name": "python3"
    }
  },
  "nbformat": 4,
  "nbformat_minor": 0
}